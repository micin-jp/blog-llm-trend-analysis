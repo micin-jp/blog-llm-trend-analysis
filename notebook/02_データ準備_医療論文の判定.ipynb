{
 "cells": [
  {
   "cell_type": "code",
   "execution_count": 1,
   "id": "469fb6f1-b8a5-4bae-8e65-b28c6ec45b76",
   "metadata": {},
   "outputs": [],
   "source": [
    "import collections\n",
    "import functools\n",
    "import pathlib\n",
    "import time\n",
    "\n",
    "import pandas as pd\n",
    "from google.api_core.exceptions import ResourceExhausted\n",
    "from tqdm.notebook import tqdm\n",
    "from vertexai.language_models import TextGenerationModel"
   ]
  },
  {
   "cell_type": "code",
   "execution_count": 2,
   "id": "ba26abd6-31d8-4070-b15e-9d999a8d43a4",
   "metadata": {},
   "outputs": [],
   "source": [
    "DATA_DIR = pathlib.Path('../data')"
   ]
  },
  {
   "cell_type": "markdown",
   "id": "90a6c926-1bc2-4c1c-8208-5435fdb005d7",
   "metadata": {},
   "source": [
    "# 3. 医療論文の判定\n",
    "医療に関連する内容の論文を判定します。  \n",
    "当初はキーワードマッチングで行おうと思ったのですが、キーワードをいくら追加しても網羅しきれない状況が発生したため、LLM の力を借りることにしました。  \n",
    "論文のタイトルからその論文が医療関連のものかどうかを判定します。  "
   ]
  },
  {
   "cell_type": "code",
   "execution_count": 3,
   "id": "c4b84624-02ca-4b61-b64c-5d5834a3d28c",
   "metadata": {},
   "outputs": [],
   "source": [
    "DATA_PATH = DATA_DIR / 'papers.csv'\n",
    "DATA_TITLE_PATH = DATA_DIR / 'papers_title.csv'\n",
    "\n",
    "SAVE_PATH = DATA_DIR / 'papers_med.csv'"
   ]
  },
  {
   "cell_type": "markdown",
   "id": "f7f6ee8c-b0bd-4207-8547-5fa4bb0d13b1",
   "metadata": {},
   "source": [
    "## 3-1. データの準備\n",
    "必要なのはタイトルのみなので、タイトルと推論結果を格納するデータフレームを作成しておきます。  \n",
    "また処理に時間がかかるので、途中経過を読み込めるようにしておきます。  "
   ]
  },
  {
   "cell_type": "code",
   "execution_count": 4,
   "id": "8d9207fb-4f72-4926-ac01-1f930dce0eb7",
   "metadata": {},
   "outputs": [
    {
     "name": "stdout",
     "output_type": "stream",
     "text": [
      "191,136\n",
      "0 / 191,136\n"
     ]
    },
    {
     "data": {
      "text/html": [
       "<div>\n",
       "<style scoped>\n",
       "    .dataframe tbody tr th:only-of-type {\n",
       "        vertical-align: middle;\n",
       "    }\n",
       "\n",
       "    .dataframe tbody tr th {\n",
       "        vertical-align: top;\n",
       "    }\n",
       "\n",
       "    .dataframe thead th {\n",
       "        text-align: right;\n",
       "    }\n",
       "</style>\n",
       "<table border=\"1\" class=\"dataframe\">\n",
       "  <thead>\n",
       "    <tr style=\"text-align: right;\">\n",
       "      <th></th>\n",
       "      <th>title</th>\n",
       "      <th>related_to_medicine</th>\n",
       "    </tr>\n",
       "  </thead>\n",
       "  <tbody>\n",
       "    <tr>\n",
       "      <th>0</th>\n",
       "      <td>PatchTrack: Multiple Object Tracking Using Fra...</td>\n",
       "      <td>No</td>\n",
       "    </tr>\n",
       "    <tr>\n",
       "      <th>1</th>\n",
       "      <td>Automated Fake News Detection using cross-chec...</td>\n",
       "      <td>No</td>\n",
       "    </tr>\n",
       "  </tbody>\n",
       "</table>\n",
       "</div>"
      ],
      "text/plain": [
       "                                               title related_to_medicine\n",
       "0  PatchTrack: Multiple Object Tracking Using Fra...                  No\n",
       "1  Automated Fake News Detection using cross-chec...                  No"
      ]
     },
     "execution_count": 4,
     "metadata": {},
     "output_type": "execute_result"
    }
   ],
   "source": [
    "TITLE_COL = 'title'\n",
    "RELATED_TO_MEDICINE_COL = 'related_to_medicine'\n",
    "EMPTY = '<EMPTY>'\n",
    "\n",
    "if not DATA_TITLE_PATH.exists():\n",
    "    df = pd.read_csv(DATA_PATH)\n",
    "    df_title = df[[TITLE_COL]].drop_duplicates().copy()\n",
    "    df_title[RELATED_TO_MEDICINE_COL] = EMPTY\n",
    "else:\n",
    "    df_title = pd.read_csv(DATA_TITLE_PATH)\n",
    "\n",
    "print(f'{len(df_title):,}')\n",
    "print(f'{len(df_title[df_title[RELATED_TO_MEDICINE_COL] == EMPTY]):,} / {len(df_title):,}')\n",
    "df_title.head(2)"
   ]
  },
  {
   "cell_type": "code",
   "execution_count": 5,
   "id": "823c78ad-c7f9-46c3-89ff-b78b3943a25d",
   "metadata": {},
   "outputs": [],
   "source": [
    "PROMPT_TEMPLATE = \"\"\"\n",
    "Below is the title of a paper.\n",
    "Is this paper related to medical field?\n",
    "Answer with “Yes” or “No”.\n",
    "\n",
    "title: {title}\n",
    "answer:\n",
    "\"\"\".strip()"
   ]
  },
  {
   "cell_type": "markdown",
   "id": "c4278471-8530-4d28-8e26-17a93ad7341c",
   "metadata": {},
   "source": [
    "## 3-2. 費用の推定\n",
    "おおよそどのくらいの費用がかかるか事前に算出しておきます。"
   ]
  },
  {
   "cell_type": "code",
   "execution_count": 6,
   "id": "48e439d8-5a96-4992-b76b-75d1c69001ce",
   "metadata": {},
   "outputs": [],
   "source": [
    "# https://cloud.google.com/vertex-ai/pricing\n",
    "PRICING = {'input': 0.00025 / 1000, 'output': 0.0005 / 1000}\n",
    "\n",
    "\n",
    "def count_characters(text: str) -> int:\n",
    "    \"\"\"PaLMではcharacter単位で課金される\n",
    "    https://medium.com/@van.evanfebrianto/a-deep-dive-into-monitoring-character-consumption-in-langchain-for-vertexai-ensuring-business-d4b6363802a5\n",
    "    \"\"\"\n",
    "    text_without_spaces = ''.join([char for char in text if not char.isspace()])\n",
    "    return len(text_without_spaces.encode('utf-8'))\n",
    "\n",
    "\n",
    "def calculate_cost(prompts: list[str], outputs: list[str]) -> float:\n",
    "    \"\"\"費用を計算する\"\"\"\n",
    "    cost = 0\n",
    "    for prompt, output in zip(prompts, outputs):\n",
    "        input_cost = count_characters(prompt) * PRICING['input']\n",
    "        output_cost = count_characters(output) * PRICING['output']\n",
    "        cost += input_cost + output_cost\n",
    "    return cost"
   ]
  },
  {
   "cell_type": "code",
   "execution_count": 7,
   "id": "2cff0e58-a401-4626-a7c3-637d187b2605",
   "metadata": {},
   "outputs": [
    {
     "name": "stdout",
     "output_type": "stream",
     "text": [
      "$8.36\n"
     ]
    }
   ],
   "source": [
    "# 出力は仮置き\n",
    "cost = calculate_cost(\n",
    "    prompts=[PROMPT_TEMPLATE.format(title=title) for title in df_title.title],\n",
    "    outputs=['Yes'] * len(df_title)\n",
    ")\n",
    "print(f'${cost:.2f}')"
   ]
  },
  {
   "cell_type": "markdown",
   "id": "ac193379-00f4-498a-a47a-16eefa300ea3",
   "metadata": {},
   "source": [
    "## 3-3. 推論\n",
    "$10未満とのことなので、安心して推論を進めていきます。   "
   ]
  },
  {
   "cell_type": "code",
   "execution_count": 8,
   "id": "bf70270a-e8b0-44c0-a38a-117624d1f84e",
   "metadata": {},
   "outputs": [],
   "source": [
    "PARAMETERS = {\n",
    "    'max_output_tokens': 8,\n",
    "    'temperature': 0\n",
    "}\n",
    "\n",
    "model_ = TextGenerationModel.from_pretrained('text-bison@001')\n",
    "\n",
    "\n",
    "def resource_exhausted_handler(func):\n",
    "    @functools.wraps(func)\n",
    "    def _wrapper(*args, **kwargs):\n",
    "        try:\n",
    "            result = func(*args, **kwargs)\n",
    "            return True, result\n",
    "        except ResourceExhausted:\n",
    "            time.sleep(30)\n",
    "            return False, None\n",
    "    return _wrapper\n",
    "\n",
    "\n",
    "@resource_exhausted_handler\n",
    "def predict(prompt: str, parameters: dict[str, float] = PARAMETERS) -> str:\n",
    "    response = model_.predict(prompt, **parameters)\n",
    "    return response.text"
   ]
  },
  {
   "cell_type": "code",
   "execution_count": 9,
   "id": "8686474c-ef9b-409b-9018-f7b0d0073733",
   "metadata": {},
   "outputs": [
    {
     "name": "stdout",
     "output_type": "stream",
     "text": [
      "Remaining: 0 / 191,136\n"
     ]
    },
    {
     "data": {
      "application/vnd.jupyter.widget-view+json": {
       "model_id": "129f43355bfb4e8494513cacd3ce3492",
       "version_major": 2,
       "version_minor": 0
      },
      "text/plain": [
       "  0%|          | 0/191136 [00:00<?, ?it/s]"
      ]
     },
     "metadata": {},
     "output_type": "display_data"
    }
   ],
   "source": [
    "print(f'Remaining: {len(df_title[df_title[RELATED_TO_MEDICINE_COL] == EMPTY]):,} / {len(df_title):,}')\n",
    "\n",
    "try:\n",
    "    for i in tqdm(range(len(df_title)), total=len(df_title)):\n",
    "        if df_title.at[i, RELATED_TO_MEDICINE_COL] == EMPTY:\n",
    "            prompt = PROMPT_TEMPLATE.format(title=df_title.at[i, TITLE_COL])\n",
    "\n",
    "            # ResourceExhausted対策\n",
    "            success = False\n",
    "            while not success:\n",
    "                success, result = predict(prompt)\n",
    "\n",
    "            df_title.at[i, RELATED_TO_MEDICINE_COL] = result\n",
    "# とにかく処理が止まったら保存されるようにする\n",
    "except BaseException as e:\n",
    "    print(f'{e.__class__.__name__}: {e}')\n",
    "\n",
    "df_title.to_csv(DATA_TITLE_PATH, header=True, index=False)"
   ]
  },
  {
   "cell_type": "markdown",
   "id": "11d9bf38-ccc3-44e6-8301-1e79d00cd016",
   "metadata": {},
   "source": [
    "## 3-4. 推論結果の確認\n",
    "出力が`Yes`と`No`になっているかを確認しておきます。  "
   ]
  },
  {
   "cell_type": "code",
   "execution_count": 10,
   "id": "bdf63e7b-80bd-4f46-aa3a-65fea7bb5637",
   "metadata": {},
   "outputs": [
    {
     "name": "stdout",
     "output_type": "stream",
     "text": [
      "\"No\": 175,231\n",
      "\"Yes\": 15,905\n"
     ]
    }
   ],
   "source": [
    "counter = collections.Counter(df_title[RELATED_TO_MEDICINE_COL])\n",
    "for pred, count in sorted(counter.items()):\n",
    "    print(f'\"{pred}\": {count:,}')"
   ]
  },
  {
   "cell_type": "markdown",
   "id": "574d9bd3-0aaf-44fc-9668-5a2481e64870",
   "metadata": {},
   "source": [
    "## 3-5. 結果を元データに反映\n",
    "推論結果を分析元のデータにくっつけます。  "
   ]
  },
  {
   "cell_type": "code",
   "execution_count": 11,
   "id": "2e236c6c-478d-414c-9711-9701e41da974",
   "metadata": {},
   "outputs": [
    {
     "name": "stdout",
     "output_type": "stream",
     "text": [
      "['No', 'Yes']\n"
     ]
    }
   ],
   "source": [
    "df = pd.read_csv(DATA_PATH)\n",
    "df_title = pd.read_csv(DATA_TITLE_PATH)\n",
    "\n",
    "df = df.merge(df_title, how='left', on=TITLE_COL)\n",
    "print(sorted(set(df[RELATED_TO_MEDICINE_COL])))"
   ]
  },
  {
   "cell_type": "code",
   "execution_count": 12,
   "id": "65f0fd99-2020-4b7c-961c-e4939acf961a",
   "metadata": {},
   "outputs": [],
   "source": [
    "df.to_csv(SAVE_PATH, header=True, index=False)"
   ]
  },
  {
   "cell_type": "code",
   "execution_count": null,
   "id": "a353acd7-9cd0-4d8f-b4d7-de86e2235d99",
   "metadata": {},
   "outputs": [],
   "source": []
  }
 ],
 "metadata": {
  "kernelspec": {
   "display_name": "Python 3 (ipykernel)",
   "language": "python",
   "name": "python3"
  },
  "language_info": {
   "codemirror_mode": {
    "name": "ipython",
    "version": 3
   },
   "file_extension": ".py",
   "mimetype": "text/x-python",
   "name": "python",
   "nbconvert_exporter": "python",
   "pygments_lexer": "ipython3",
   "version": "3.11.6"
  }
 },
 "nbformat": 4,
 "nbformat_minor": 5
}
