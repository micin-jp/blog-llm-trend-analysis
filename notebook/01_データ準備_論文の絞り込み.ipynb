{
 "cells": [
  {
   "cell_type": "code",
   "execution_count": 1,
   "id": "140c364d-7368-4ec9-ae26-07a507f5691c",
   "metadata": {},
   "outputs": [],
   "source": [
    "import json\n",
    "import pathlib\n",
    "import re\n",
    "\n",
    "import pandas as pd"
   ]
  },
  {
   "cell_type": "code",
   "execution_count": 2,
   "id": "d8f14e67-d98a-4a76-afe9-3cf6b6442f7c",
   "metadata": {},
   "outputs": [],
   "source": [
    "DATA_DIR = pathlib.Path('../data')"
   ]
  },
  {
   "cell_type": "markdown",
   "id": "ed8730b1-04e5-4174-b064-563217741859",
   "metadata": {},
   "source": [
    "# 1. arXiv メタデータの読み込み\n",
    "[Kaggle の arXiv Dataset](https://www.kaggle.com/datasets/Cornell-University/arxiv/) からダウンロードしたメタデータを読み込みます。  \n",
    "\n",
    "かなり昔のものかつ広範なカテゴリの論文が含まれているので、ここから絞り込んで使用します。"
   ]
  },
  {
   "cell_type": "code",
   "execution_count": 3,
   "id": "eeb0f392-6ed4-4ec2-84e6-a68f25ab49be",
   "metadata": {},
   "outputs": [],
   "source": [
    "ARXIV_METADATA_PATH = DATA_DIR / 'arxiv-metadata-oai-snapshot.json'"
   ]
  },
  {
   "cell_type": "code",
   "execution_count": 4,
   "id": "fb49abba-8984-4e35-8c50-2a0571aabb73",
   "metadata": {},
   "outputs": [],
   "source": [
    "MONTH_NAME2NUMBER = {\n",
    "    'Jan': '01',\n",
    "    'Feb': '02',\n",
    "    'Mar': '03',\n",
    "    'Apr': '04',\n",
    "    'May': '05',\n",
    "    'Jun': '06',\n",
    "    'Jul': '07',\n",
    "    'Aug': '08',\n",
    "    'Sep': '09',\n",
    "    'Oct': '10',\n",
    "    'Nov': '11',\n",
    "    'Dec': '12'\n",
    "}\n",
    "\n",
    "\n",
    "def read_arxiv_metadata(arxiv_metadata_path: str) -> pd.DataFrame:\n",
    "    \"\"\"arxiv-metadata-oai-snapshot.jsonを読み込む\"\"\"\n",
    "    data = []\n",
    "    with open(arxiv_metadata_path, encoding='utf-8') as f:\n",
    "        for line in f:\n",
    "            item = json.loads(line)\n",
    "            # 最初に提出された日付を使用する\n",
    "            year, month, day = _extract_date(item['versions'][0]['created'])\n",
    "            data.append([\n",
    "                f'{year}-{month}-{day}',\n",
    "                f'{year}-{month}',\n",
    "                _preprocess_text(item['title']),\n",
    "                _preprocess_text(item['abstract']),\n",
    "                item['categories'].split(' '),\n",
    "                f'https://arxiv.org/abs/{item[\"id\"]}',\n",
    "            ])\n",
    "\n",
    "    cols = ['date', 'year_month', 'title', 'abstract', 'categories', 'url']\n",
    "    return pd.DataFrame(data, columns=cols)\n",
    "\n",
    "\n",
    "def _extract_date(text: str) -> tuple[str, str, str]:\n",
    "    \"\"\"arXivのメタデータのversionsのcreatedから年月日を取得する\"\"\"\n",
    "    day, month_name, year = text.split(' ')[1:4]\n",
    "    return year, MONTH_NAME2NUMBER[month_name], f'{day:0>2}'\n",
    "\n",
    "\n",
    "def _preprocess_text(text: str) -> str:\n",
    "    \"\"\"arXivのメタデータのtitleとabstractの空白/改行を削除する\"\"\"\n",
    "    return re.sub(r'\\s+', ' ', text.strip())"
   ]
  },
  {
   "cell_type": "code",
   "execution_count": 5,
   "id": "aa35e270-ece1-4611-9981-3f8661fdbdbb",
   "metadata": {},
   "outputs": [
    {
     "name": "stdout",
     "output_type": "stream",
     "text": [
      "2,396,090\n"
     ]
    },
    {
     "data": {
      "text/html": [
       "<div>\n",
       "<style scoped>\n",
       "    .dataframe tbody tr th:only-of-type {\n",
       "        vertical-align: middle;\n",
       "    }\n",
       "\n",
       "    .dataframe tbody tr th {\n",
       "        vertical-align: top;\n",
       "    }\n",
       "\n",
       "    .dataframe thead th {\n",
       "        text-align: right;\n",
       "    }\n",
       "</style>\n",
       "<table border=\"1\" class=\"dataframe\">\n",
       "  <thead>\n",
       "    <tr style=\"text-align: right;\">\n",
       "      <th></th>\n",
       "      <th>date</th>\n",
       "      <th>year_month</th>\n",
       "      <th>title</th>\n",
       "      <th>abstract</th>\n",
       "      <th>categories</th>\n",
       "      <th>url</th>\n",
       "    </tr>\n",
       "  </thead>\n",
       "  <tbody>\n",
       "    <tr>\n",
       "      <th>2396088</th>\n",
       "      <td>1996-09-18</td>\n",
       "      <td>1996-09</td>\n",
       "      <td>Density of States and NMR Relaxation Rate in A...</td>\n",
       "      <td>We show that the density of states in an aniso...</td>\n",
       "      <td>[supr-con, cond-mat.supr-con]</td>\n",
       "      <td>https://arxiv.org/abs/supr-con/9609003</td>\n",
       "    </tr>\n",
       "    <tr>\n",
       "      <th>2396089</th>\n",
       "      <td>1996-09-25</td>\n",
       "      <td>1996-09</td>\n",
       "      <td>Ginzburg Landau theory for d-wave pairing and ...</td>\n",
       "      <td>The Ginzburg Landau theory for d_{x^2-y^2}-wav...</td>\n",
       "      <td>[supr-con, cond-mat.supr-con]</td>\n",
       "      <td>https://arxiv.org/abs/supr-con/9609004</td>\n",
       "    </tr>\n",
       "  </tbody>\n",
       "</table>\n",
       "</div>"
      ],
      "text/plain": [
       "               date year_month  \\\n",
       "2396088  1996-09-18    1996-09   \n",
       "2396089  1996-09-25    1996-09   \n",
       "\n",
       "                                                     title  \\\n",
       "2396088  Density of States and NMR Relaxation Rate in A...   \n",
       "2396089  Ginzburg Landau theory for d-wave pairing and ...   \n",
       "\n",
       "                                                  abstract  \\\n",
       "2396088  We show that the density of states in an aniso...   \n",
       "2396089  The Ginzburg Landau theory for d_{x^2-y^2}-wav...   \n",
       "\n",
       "                            categories                                     url  \n",
       "2396088  [supr-con, cond-mat.supr-con]  https://arxiv.org/abs/supr-con/9609003  \n",
       "2396089  [supr-con, cond-mat.supr-con]  https://arxiv.org/abs/supr-con/9609004  "
      ]
     },
     "execution_count": 5,
     "metadata": {},
     "output_type": "execute_result"
    }
   ],
   "source": [
    "df_all = read_arxiv_metadata(ARXIV_METADATA_PATH)\n",
    "\n",
    "print(f'{len(df_all):,}')\n",
    "df_all.tail(2)"
   ]
  },
  {
   "cell_type": "markdown",
   "id": "856950b5-3e1a-40b1-ad7f-ef4edaf26ba9",
   "metadata": {},
   "source": [
    "# 2. 期間とカテゴリの絞り込み\n",
    "日付が2022年から2023年の間、カテゴリが`cs`もしくは`stat`のもののみを残します。  \n",
    "（2021年以前には LLM 関連の論文がほぼなかったため除外しています。）  \n",
    "\n",
    "このデータを分析元の arXiv データとして扱います。   "
   ]
  },
  {
   "cell_type": "code",
   "execution_count": 6,
   "id": "06a2bcc4-663a-40c3-a52b-00a0e50aa7d1",
   "metadata": {},
   "outputs": [],
   "source": [
    "SAVE_PATH = DATA_DIR / 'papers.csv'"
   ]
  },
  {
   "cell_type": "code",
   "execution_count": 7,
   "id": "4f8000f5-6c36-448a-9cbd-a9972fa32532",
   "metadata": {},
   "outputs": [],
   "source": [
    "YEAR_MONTH_COL = 'year_month'\n",
    "CATEGORIES_COL = 'categories'\n",
    "YEAR_MONTH_RANGE = ('2022-01', '2023-12')\n",
    "TARGET_CATEGORIES = ['cs', 'stat']\n",
    "\n",
    "\n",
    "def squeeze_by_year_month_and_categories(df: pd.DataFrame) -> pd.DataFrame:\n",
    "    \"\"\"読み込んだメタデータからデータを絞り込む\"\"\"\n",
    "    cond_year_month = (df[YEAR_MONTH_COL] >= min(YEAR_MONTH_RANGE)) & (df[YEAR_MONTH_COL] <= max(YEAR_MONTH_RANGE))\n",
    "    regex = re.compile(rf'^({\"|\".join(TARGET_CATEGORIES)})')\n",
    "    cond_categories = df[CATEGORIES_COL].apply(lambda cats: any(regex.search(cat) for cat in cats))\n",
    "\n",
    "    return df[cond_year_month & cond_categories]"
   ]
  },
  {
   "cell_type": "code",
   "execution_count": 8,
   "id": "b60bdfc7-1763-4840-871b-827c8171b35b",
   "metadata": {},
   "outputs": [
    {
     "name": "stdout",
     "output_type": "stream",
     "text": [
      "191,185\n",
      "2022-01-01 ~ 2023-12-31\n"
     ]
    }
   ],
   "source": [
    "df = squeeze_by_year_month_and_categories(df_all)\n",
    "\n",
    "print(f'{len(df):,}')\n",
    "print(f'{df.date.min()} ~ {df.date.max()}')"
   ]
  },
  {
   "cell_type": "code",
   "execution_count": 9,
   "id": "a392a031-2d2b-4a59-becb-63cee0a6c565",
   "metadata": {},
   "outputs": [],
   "source": [
    "df.to_csv(SAVE_PATH, header=True, index=False)"
   ]
  },
  {
   "cell_type": "code",
   "execution_count": null,
   "id": "e52b949a-deb3-4f2a-a0c0-09286581395d",
   "metadata": {},
   "outputs": [],
   "source": []
  }
 ],
 "metadata": {
  "kernelspec": {
   "display_name": "Python 3 (ipykernel)",
   "language": "python",
   "name": "python3"
  },
  "language_info": {
   "codemirror_mode": {
    "name": "ipython",
    "version": 3
   },
   "file_extension": ".py",
   "mimetype": "text/x-python",
   "name": "python",
   "nbconvert_exporter": "python",
   "pygments_lexer": "ipython3",
   "version": "3.11.6"
  }
 },
 "nbformat": 4,
 "nbformat_minor": 5
}
