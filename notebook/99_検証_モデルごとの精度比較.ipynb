{
 "cells": [
  {
   "cell_type": "markdown",
   "id": "52f8fe86-729f-4d83-a2a9-08b2258eaf9e",
   "metadata": {},
   "source": [
    "「論文のタイトルから医療関連の論文かどうかを判定する」タスクを解くに際して、どのモデルが良いのかを検証します。"
   ]
  },
  {
   "cell_type": "code",
   "execution_count": 1,
   "id": "e0e5c8c9-19b5-4f50-bedb-a3af715a5d12",
   "metadata": {},
   "outputs": [],
   "source": [
    "import collections\n",
    "import functools\n",
    "import math\n",
    "import time\n",
    "\n",
    "import matplotlib.pyplot as plt\n",
    "import numpy as np\n",
    "import pandas as pd\n",
    "import tiktoken\n",
    "from openai import OpenAI\n",
    "from sklearn.metrics import f1_score, precision_score, recall_score\n",
    "from tqdm.notebook import tqdm\n",
    "from vertexai.language_models import TextGenerationModel\n",
    "from vertexai.preview.generative_models import GenerativeModel"
   ]
  },
  {
   "cell_type": "markdown",
   "id": "8db33004-f595-406e-a811-625320df0546",
   "metadata": {},
   "source": [
    "# 1. 評価に使用する関数を準備する"
   ]
  },
  {
   "cell_type": "code",
   "execution_count": 2,
   "id": "9bf77b7e-0513-477c-b9fe-5088b4d9222d",
   "metadata": {},
   "outputs": [],
   "source": [
    "OPENAI_API_KEY_PATH = '../openai_api_key.txt'"
   ]
  },
  {
   "cell_type": "code",
   "execution_count": 3,
   "id": "74f026d0-000f-4e11-abdb-373c1c15cc52",
   "metadata": {},
   "outputs": [],
   "source": [
    "# 実行時間を計測するデコレーター\n",
    "def timeit(func):\n",
    "    @functools.wraps(func)\n",
    "    def _wrapper(*args, **kwargs):\n",
    "        s = time.perf_counter()\n",
    "        result = func(*args, **kwargs)\n",
    "        e = time.perf_counter() - s\n",
    "        return e, result\n",
    "    return _wrapper"
   ]
  },
  {
   "cell_type": "code",
   "execution_count": 4,
   "id": "8ec5bb97-10a4-422c-9376-8781dcc4ece9",
   "metadata": {},
   "outputs": [],
   "source": [
    "# GPT-3.5 / GPT-4\n",
    "with open(OPENAI_API_KEY_PATH) as f:\n",
    "    OPENAI_API_KEY = f.read()\n",
    "client = OpenAI(api_key=OPENAI_API_KEY)\n",
    "\n",
    "@timeit\n",
    "def predict_openai(prompt: str, model_name: str, max_tokens: int = 8, temperature: float = 0) -> str:\n",
    "    messages = [{'role': 'user', 'content': prompt}]\n",
    "    response = client.chat.completions.create(\n",
    "        model=model_name,\n",
    "        messages=messages,\n",
    "        max_tokens=max_tokens,\n",
    "        temperature=temperature\n",
    "    )\n",
    "    return response.choices[0].message.content\n",
    "\n",
    "\n",
    "# PaLM 2\n",
    "parameters = {\n",
    "    'max_output_tokens': 8,\n",
    "    'temperature': 0\n",
    "}\n",
    "model_palm = TextGenerationModel.from_pretrained('text-bison@001')\n",
    "\n",
    "@timeit\n",
    "def predict_palm(prompt: str, parameters: dict[str, float] = parameters) -> str:\n",
    "    response = model_palm.predict(prompt, **parameters)\n",
    "    return response.text\n",
    "\n",
    "\n",
    "# Gemini Pro\n",
    "# https://cloud.google.com/vertex-ai/docs/generative-ai/multimodal/sdk-for-gemini/gemini-sdk-overview-reference\n",
    "generation_config = {\n",
    "    'max_output_tokens': 8,\n",
    "    'temperature': 0\n",
    "}\n",
    "model_gemini = GenerativeModel('gemini-pro', generation_config=generation_config)\n",
    "\n",
    "@timeit\n",
    "def predict_gemini(prompt: str) -> str:\n",
    "    response = model_gemini.generate_content(prompt)\n",
    "    return response.text\n",
    "\n",
    "\n",
    "# 上記の推論用関数をまとめる\n",
    "MODEL_NAME_TO_PREDICT_FUNC =  {\n",
    "    'gpt-3.5-turbo-1106': functools.partial(predict_openai, model_name='gpt-3.5-turbo-1106'),\n",
    "    'gpt-4-1106-preview': functools.partial(predict_openai, model_name='gpt-4-1106-preview'),\n",
    "    'text-bison@001': predict_palm,\n",
    "    'gemini-pro': predict_gemini\n",
    "}\n",
    "MODEL_NAMES = list(MODEL_NAME_TO_PREDICT_FUNC.keys())"
   ]
  },
  {
   "cell_type": "code",
   "execution_count": 5,
   "id": "597aca16-f5b9-45f1-8c80-395ae9d32e9d",
   "metadata": {},
   "outputs": [],
   "source": [
    "# 費用計算\n",
    "PRICING = {\n",
    "    # https://openai.com/pricing\n",
    "    'gpt-3.5-turbo-1106': {'input': 0.001 / 1000, 'output': 0.002 / 1000},\n",
    "    'gpt-4-1106-preview': {'input': 0.01 / 1000, 'output': 0.03 / 1000},\n",
    "    # https://cloud.google.com/vertex-ai/pricing\n",
    "    'text-bison@001': {'input': 0.00025 / 1000, 'output': 0.0005 / 1000},\n",
    "    # https://ai.google.dev/pricing\n",
    "    'gemini-pro': {'input': 0.00025 / 1000, 'output': 0.0005 / 1000}\n",
    "}\n",
    "encoding = tiktoken.get_encoding('cl100k_base')\n",
    "\n",
    "\n",
    "def count_tokens(text: str) -> int:\n",
    "    \"\"\"OpenAI用\n",
    "    https://dev.classmethod.jp/articles/openai-api-chatgpt-tiktoken/\n",
    "    \"\"\"\n",
    "    tokens = encoding.encode(text)\n",
    "    return len(tokens)\n",
    "\n",
    "\n",
    "def count_characters(text: str) -> int:\n",
    "    \"\"\"VertexAI用\n",
    "    https://medium.com/@van.evanfebrianto/a-deep-dive-into-monitoring-character-consumption-in-langchain-for-vertexai-ensuring-business-d4b6363802a5\n",
    "    \"\"\"\n",
    "    text_without_spaces = ''.join([char for char in text if not char.isspace()])\n",
    "    return len(text_without_spaces.encode('utf-8'))\n",
    "\n",
    "\n",
    "def calculate_cost(prompt: str, output: str, model_name: str) -> float:\n",
    "    count_func = count_tokens if model_name.startswith('gpt') else count_characters\n",
    "    input_cost = count_func(prompt) * PRICING[model_name]['input']\n",
    "    output_cost = count_func(output) * PRICING[model_name]['output']\n",
    "    return input_cost + output_cost"
   ]
  },
  {
   "cell_type": "code",
   "execution_count": 6,
   "id": "f90058ec-0021-4190-8003-26b355a910ff",
   "metadata": {},
   "outputs": [],
   "source": [
    "# プロンプトの準備\n",
    "PROMPT_BINARY = \"\"\"\n",
    "Below is the title of a paper.\n",
    "Is this paper related to medical field?\n",
    "Answer with “Yes” or “No”.\n",
    "\n",
    "title: {title}\n",
    "answer:\n",
    "\"\"\".strip()\n",
    "\n",
    "PROMPT_SCORE = \"\"\"\n",
    "Below is the title of a paper.\n",
    "Is this paper related to medical field?\n",
    "Answer with the score from 1 (completely unrelated) to 10 (completely related).\n",
    "Answer only the score.\n",
    "\n",
    "title: {title}\n",
    "answer:\n",
    "\"\"\".strip()\n",
    "\n",
    "# 上記のプロンプトを種類ごとにまとめる\n",
    "PROMPT_TYPES = ['binary', 'score']\n",
    "PROMPT_TEMPLATES = [PROMPT_BINARY, PROMPT_SCORE]\n",
    "PROMPT_TYPE_TO_TEMPLATE = dict(zip(PROMPT_TYPES, PROMPT_TEMPLATES))"
   ]
  },
  {
   "cell_type": "markdown",
   "id": "74f326db-a460-4f6f-b3fb-196e244fe7a4",
   "metadata": {},
   "source": [
    "# 2. 推論を行う\n",
    "モデルごとにタスクを解いていきます。  \n",
    "評価用データは目視で確認した、医療関連の論文200件、医療に関連しない論文200件の合計400件です。"
   ]
  },
  {
   "cell_type": "code",
   "execution_count": 7,
   "id": "ee2d88a8-ffc8-40b4-802e-dae7e9b64cdf",
   "metadata": {},
   "outputs": [],
   "source": [
    "# 評価用データのパス\n",
    "DATA_PATH = '../data/eval_papers.csv'\n",
    "SAVE_PATH = '../data/eval_papers_results.csv'"
   ]
  },
  {
   "cell_type": "code",
   "execution_count": 8,
   "id": "3b2cf8a7-e93c-45ec-b221-a6c5cee7246e",
   "metadata": {},
   "outputs": [
    {
     "name": "stdout",
     "output_type": "stream",
     "text": [
      "Counter({1: 200, 0: 200})\n"
     ]
    },
    {
     "data": {
      "text/html": [
       "<div>\n",
       "<style scoped>\n",
       "    .dataframe tbody tr th:only-of-type {\n",
       "        vertical-align: middle;\n",
       "    }\n",
       "\n",
       "    .dataframe tbody tr th {\n",
       "        vertical-align: top;\n",
       "    }\n",
       "\n",
       "    .dataframe thead th {\n",
       "        text-align: right;\n",
       "    }\n",
       "</style>\n",
       "<table border=\"1\" class=\"dataframe\">\n",
       "  <thead>\n",
       "    <tr style=\"text-align: right;\">\n",
       "      <th></th>\n",
       "      <th>title</th>\n",
       "      <th>url</th>\n",
       "      <th>is_medical</th>\n",
       "    </tr>\n",
       "  </thead>\n",
       "  <tbody>\n",
       "    <tr>\n",
       "      <th>0</th>\n",
       "      <td>3D Reasoning for Unsupervised Anomaly Detectio...</td>\n",
       "      <td>https://arxiv.org/abs/2103.13497</td>\n",
       "      <td>1</td>\n",
       "    </tr>\n",
       "    <tr>\n",
       "      <th>1</th>\n",
       "      <td>A 35-Year Longitudinal Analysis of Dermatology...</td>\n",
       "      <td>https://arxiv.org/abs/2208.02852</td>\n",
       "      <td>1</td>\n",
       "    </tr>\n",
       "  </tbody>\n",
       "</table>\n",
       "</div>"
      ],
      "text/plain": [
       "                                               title  \\\n",
       "0  3D Reasoning for Unsupervised Anomaly Detectio...   \n",
       "1  A 35-Year Longitudinal Analysis of Dermatology...   \n",
       "\n",
       "                                url  is_medical  \n",
       "0  https://arxiv.org/abs/2103.13497           1  \n",
       "1  https://arxiv.org/abs/2208.02852           1  "
      ]
     },
     "execution_count": 8,
     "metadata": {},
     "output_type": "execute_result"
    }
   ],
   "source": [
    "# 評価用データを読み込む\n",
    "df = pd.read_csv(DATA_PATH)\n",
    "\n",
    "print(collections.Counter(df.is_medical))\n",
    "df.head(2)"
   ]
  },
  {
   "cell_type": "code",
   "execution_count": 9,
   "id": "1ef39594-3868-4c6d-99fc-cd0eaac6ff0a",
   "metadata": {},
   "outputs": [
    {
     "name": "stdout",
     "output_type": "stream",
     "text": [
      "$0.5876\n"
     ]
    }
   ],
   "source": [
    "# 検証にかかる費用を計算しておく\n",
    "tmp_output = 'Yes'\n",
    "cost = 0\n",
    "\n",
    "for title in df.title:\n",
    "    for prompt_template in PROMPT_TEMPLATES:\n",
    "        prompt = prompt_template.format(title=title)\n",
    "        for model_name in MODEL_NAMES:\n",
    "            cost += calculate_cost(prompt, tmp_output, model_name)\n",
    "\n",
    "print(f'${cost:.4f}')"
   ]
  },
  {
   "cell_type": "code",
   "execution_count": 10,
   "id": "af3af133-cb89-4a60-8b27-9de01db7cbc4",
   "metadata": {},
   "outputs": [
    {
     "data": {
      "application/vnd.jupyter.widget-view+json": {
       "model_id": "d10879ded5774de4a2df88b8e6d69894",
       "version_major": 2,
       "version_minor": 0
      },
      "text/plain": [
       "  0%|          | 0/400 [00:00<?, ?it/s]"
      ]
     },
     "metadata": {},
     "output_type": "display_data"
    },
    {
     "data": {
      "text/html": [
       "<div>\n",
       "<style scoped>\n",
       "    .dataframe tbody tr th:only-of-type {\n",
       "        vertical-align: middle;\n",
       "    }\n",
       "\n",
       "    .dataframe tbody tr th {\n",
       "        vertical-align: top;\n",
       "    }\n",
       "\n",
       "    .dataframe thead th {\n",
       "        text-align: right;\n",
       "    }\n",
       "</style>\n",
       "<table border=\"1\" class=\"dataframe\">\n",
       "  <thead>\n",
       "    <tr style=\"text-align: right;\">\n",
       "      <th></th>\n",
       "      <th>title</th>\n",
       "      <th>url</th>\n",
       "      <th>is_medical</th>\n",
       "      <th>type</th>\n",
       "      <th>model</th>\n",
       "      <th>output</th>\n",
       "      <th>cost</th>\n",
       "      <th>time</th>\n",
       "    </tr>\n",
       "  </thead>\n",
       "  <tbody>\n",
       "    <tr>\n",
       "      <th>0</th>\n",
       "      <td>3D Reasoning for Unsupervised Anomaly Detectio...</td>\n",
       "      <td>https://arxiv.org/abs/2103.13497</td>\n",
       "      <td>1</td>\n",
       "      <td>binary</td>\n",
       "      <td>gpt-3.5-turbo-1106</td>\n",
       "      <td>Yes</td>\n",
       "      <td>0.000049</td>\n",
       "      <td>4.912637</td>\n",
       "    </tr>\n",
       "    <tr>\n",
       "      <th>1</th>\n",
       "      <td>3D Reasoning for Unsupervised Anomaly Detectio...</td>\n",
       "      <td>https://arxiv.org/abs/2103.13497</td>\n",
       "      <td>1</td>\n",
       "      <td>binary</td>\n",
       "      <td>gpt-4-1106-preview</td>\n",
       "      <td>Yes</td>\n",
       "      <td>0.000500</td>\n",
       "      <td>0.885817</td>\n",
       "    </tr>\n",
       "  </tbody>\n",
       "</table>\n",
       "</div>"
      ],
      "text/plain": [
       "                                               title  \\\n",
       "0  3D Reasoning for Unsupervised Anomaly Detectio...   \n",
       "1  3D Reasoning for Unsupervised Anomaly Detectio...   \n",
       "\n",
       "                                url  is_medical    type               model  \\\n",
       "0  https://arxiv.org/abs/2103.13497           1  binary  gpt-3.5-turbo-1106   \n",
       "1  https://arxiv.org/abs/2103.13497           1  binary  gpt-4-1106-preview   \n",
       "\n",
       "  output      cost      time  \n",
       "0    Yes  0.000049  4.912637  \n",
       "1    Yes  0.000500  0.885817  "
      ]
     },
     "execution_count": 10,
     "metadata": {},
     "output_type": "execute_result"
    }
   ],
   "source": [
    "# 推論を行う\n",
    "results = []\n",
    "\n",
    "for row in tqdm(df.itertuples(), total=df.shape[0]):\n",
    "    for prompt_type, prompt_template in PROMPT_TYPE_TO_TEMPLATE.items():\n",
    "        prompt = prompt_template.format(title=row.title)\n",
    "        for model_name, predict_func in MODEL_NAME_TO_PREDICT_FUNC.items():\n",
    "            sec, output = predict_func(prompt)\n",
    "            cost = calculate_cost(prompt, output, model_name)\n",
    "            results.append({\n",
    "                'title': row.title,\n",
    "                'url': row.url,\n",
    "                'is_medical': row.is_medical,\n",
    "                'type': prompt_type,\n",
    "                'model': model_name,\n",
    "                'output': output.strip(),\n",
    "                'cost': cost,\n",
    "                'time': sec\n",
    "            })\n",
    "    time.sleep(1)\n",
    "\n",
    "df_result = pd.DataFrame.from_dict(results)\n",
    "df_result.head(2)"
   ]
  },
  {
   "cell_type": "code",
   "execution_count": 11,
   "id": "bbc0d621-1623-4da2-aa67-4ecc2adebba3",
   "metadata": {},
   "outputs": [
    {
     "name": "stdout",
     "output_type": "stream",
     "text": [
      "['No', 'Yes']\n",
      "['1', '10', '2', '3', '4', '5', '6', '7', '8', '9']\n"
     ]
    }
   ],
   "source": [
    "# 想定通りの結果になっているか確認する\n",
    "print(sorted(set(df_result[df_result.type == 'binary'].output)))\n",
    "print(sorted(set(df_result[df_result.type == 'score'].output)))"
   ]
  },
  {
   "cell_type": "code",
   "execution_count": 12,
   "id": "9d67bf7f-5ae6-4f66-911e-6bf7ec84f06e",
   "metadata": {},
   "outputs": [],
   "source": [
    "# 保存しておく\n",
    "df_result.to_csv(SAVE_PATH, header=True, index=False)"
   ]
  },
  {
   "cell_type": "markdown",
   "id": "fd728e8a-d4c1-4bfb-85fc-ee60d082ea15",
   "metadata": {},
   "source": [
    "# 3. 結果を可視化して確認する"
   ]
  },
  {
   "cell_type": "code",
   "execution_count": 13,
   "id": "89e79f6d-9fc4-42ef-b5a1-2e0782d384ab",
   "metadata": {},
   "outputs": [
    {
     "data": {
      "text/html": [
       "<div>\n",
       "<style scoped>\n",
       "    .dataframe tbody tr th:only-of-type {\n",
       "        vertical-align: middle;\n",
       "    }\n",
       "\n",
       "    .dataframe tbody tr th {\n",
       "        vertical-align: top;\n",
       "    }\n",
       "\n",
       "    .dataframe thead th {\n",
       "        text-align: right;\n",
       "    }\n",
       "</style>\n",
       "<table border=\"1\" class=\"dataframe\">\n",
       "  <thead>\n",
       "    <tr style=\"text-align: right;\">\n",
       "      <th></th>\n",
       "      <th>title</th>\n",
       "      <th>url</th>\n",
       "      <th>is_medical</th>\n",
       "      <th>type</th>\n",
       "      <th>model</th>\n",
       "      <th>output</th>\n",
       "      <th>cost</th>\n",
       "      <th>time</th>\n",
       "      <th>cost_x_10000</th>\n",
       "    </tr>\n",
       "  </thead>\n",
       "  <tbody>\n",
       "    <tr>\n",
       "      <th>0</th>\n",
       "      <td>3D Reasoning for Unsupervised Anomaly Detectio...</td>\n",
       "      <td>https://arxiv.org/abs/2103.13497</td>\n",
       "      <td>1</td>\n",
       "      <td>binary</td>\n",
       "      <td>gpt-3.5-turbo-1106</td>\n",
       "      <td>1</td>\n",
       "      <td>0.000049</td>\n",
       "      <td>4.912637</td>\n",
       "      <td>0.49</td>\n",
       "    </tr>\n",
       "    <tr>\n",
       "      <th>1</th>\n",
       "      <td>3D Reasoning for Unsupervised Anomaly Detectio...</td>\n",
       "      <td>https://arxiv.org/abs/2103.13497</td>\n",
       "      <td>1</td>\n",
       "      <td>binary</td>\n",
       "      <td>gpt-4-1106-preview</td>\n",
       "      <td>1</td>\n",
       "      <td>0.000500</td>\n",
       "      <td>0.885817</td>\n",
       "      <td>5.00</td>\n",
       "    </tr>\n",
       "  </tbody>\n",
       "</table>\n",
       "</div>"
      ],
      "text/plain": [
       "                                               title  \\\n",
       "0  3D Reasoning for Unsupervised Anomaly Detectio...   \n",
       "1  3D Reasoning for Unsupervised Anomaly Detectio...   \n",
       "\n",
       "                                url  is_medical    type               model  \\\n",
       "0  https://arxiv.org/abs/2103.13497           1  binary  gpt-3.5-turbo-1106   \n",
       "1  https://arxiv.org/abs/2103.13497           1  binary  gpt-4-1106-preview   \n",
       "\n",
       "   output      cost      time  cost_x_10000  \n",
       "0       1  0.000049  4.912637          0.49  \n",
       "1       1  0.000500  0.885817          5.00  "
      ]
     },
     "execution_count": 13,
     "metadata": {},
     "output_type": "execute_result"
    }
   ],
   "source": [
    "df_result = pd.read_csv(SAVE_PATH)\n",
    "# 出力を数字に置き換える\n",
    "df_result['output'] = df_result.output.replace({'Yes': 1, 'No': 0}).astype(np.int64)\n",
    "# costの値が小さすぎるので10,000倍した列を作成しておく\n",
    "df_result['cost_x_10000'] = df_result.cost * 10000\n",
    "\n",
    "df_result.head(2)"
   ]
  },
  {
   "cell_type": "code",
   "execution_count": 14,
   "id": "b792751c-0b5a-4795-ab73-159b01dca15f",
   "metadata": {},
   "outputs": [],
   "source": [
    "def histplot(df: pd.DataFrame, target_col: str, bins: list[float]) -> None:\n",
    "    \"\"\"target_colカラムに対するヒストグラムを作成する\"\"\"\n",
    "    rows = []\n",
    "\n",
    "    for i in range(len(bins) - 1):\n",
    "        row = {'bin': f'{bins[i]}-{bins[i + 1]}'}\n",
    "        row |= {\n",
    "            model_name: len(df[(df.model == model_name) & (df[target_col] >= bins[i]) & (df[target_col] < bins[i + 1])])\n",
    "            for model_name in MODEL_NAMES\n",
    "        }\n",
    "        rows.append(row)\n",
    "\n",
    "    df_plot = pd.DataFrame.from_dict(rows).set_index('bin')\n",
    "    df_plot.plot(kind='bar', stacked=True, width=0.9, title=target_col)\n",
    "    plt.show()"
   ]
  },
  {
   "cell_type": "markdown",
   "id": "dc93eb5e-1539-4997-9dc7-16731984990a",
   "metadata": {},
   "source": [
    "## 3-1. 精度"
   ]
  },
  {
   "cell_type": "code",
   "execution_count": 15,
   "id": "5e99fa52-ca5e-49fa-8aa7-d4acff4613e7",
   "metadata": {},
   "outputs": [
    {
     "data": {
      "text/html": [
       "<div>\n",
       "<style scoped>\n",
       "    .dataframe tbody tr th:only-of-type {\n",
       "        vertical-align: middle;\n",
       "    }\n",
       "\n",
       "    .dataframe tbody tr th {\n",
       "        vertical-align: top;\n",
       "    }\n",
       "\n",
       "    .dataframe thead th {\n",
       "        text-align: right;\n",
       "    }\n",
       "</style>\n",
       "<table border=\"1\" class=\"dataframe\">\n",
       "  <thead>\n",
       "    <tr style=\"text-align: right;\">\n",
       "      <th></th>\n",
       "      <th></th>\n",
       "      <th>precision</th>\n",
       "      <th>recall</th>\n",
       "      <th>f1</th>\n",
       "    </tr>\n",
       "    <tr>\n",
       "      <th>prompt_type</th>\n",
       "      <th>model</th>\n",
       "      <th></th>\n",
       "      <th></th>\n",
       "      <th></th>\n",
       "    </tr>\n",
       "  </thead>\n",
       "  <tbody>\n",
       "    <tr>\n",
       "      <th rowspan=\"4\" valign=\"top\">binary</th>\n",
       "      <th>gpt-3.5-turbo-1106</th>\n",
       "      <td>0.984772</td>\n",
       "      <td>0.970</td>\n",
       "      <td>0.977330</td>\n",
       "    </tr>\n",
       "    <tr>\n",
       "      <th>gpt-4-1106-preview</th>\n",
       "      <td>0.980296</td>\n",
       "      <td>0.995</td>\n",
       "      <td>0.987593</td>\n",
       "    </tr>\n",
       "    <tr>\n",
       "      <th>text-bison@001</th>\n",
       "      <td>0.995025</td>\n",
       "      <td>1.000</td>\n",
       "      <td>0.997506</td>\n",
       "    </tr>\n",
       "    <tr>\n",
       "      <th>gemini-pro</th>\n",
       "      <td>0.884956</td>\n",
       "      <td>1.000</td>\n",
       "      <td>0.938967</td>\n",
       "    </tr>\n",
       "    <tr>\n",
       "      <th rowspan=\"4\" valign=\"top\">score</th>\n",
       "      <th>gpt-3.5-turbo-1106</th>\n",
       "      <td>0.896396</td>\n",
       "      <td>0.995</td>\n",
       "      <td>0.943128</td>\n",
       "    </tr>\n",
       "    <tr>\n",
       "      <th>gpt-4-1106-preview</th>\n",
       "      <td>0.975610</td>\n",
       "      <td>1.000</td>\n",
       "      <td>0.987654</td>\n",
       "    </tr>\n",
       "    <tr>\n",
       "      <th>text-bison@001</th>\n",
       "      <td>0.990099</td>\n",
       "      <td>1.000</td>\n",
       "      <td>0.995025</td>\n",
       "    </tr>\n",
       "    <tr>\n",
       "      <th>gemini-pro</th>\n",
       "      <td>0.826446</td>\n",
       "      <td>1.000</td>\n",
       "      <td>0.904977</td>\n",
       "    </tr>\n",
       "  </tbody>\n",
       "</table>\n",
       "</div>"
      ],
      "text/plain": [
       "                                precision  recall        f1\n",
       "prompt_type model                                          \n",
       "binary      gpt-3.5-turbo-1106   0.984772   0.970  0.977330\n",
       "            gpt-4-1106-preview   0.980296   0.995  0.987593\n",
       "            text-bison@001       0.995025   1.000  0.997506\n",
       "            gemini-pro           0.884956   1.000  0.938967\n",
       "score       gpt-3.5-turbo-1106   0.896396   0.995  0.943128\n",
       "            gpt-4-1106-preview   0.975610   1.000  0.987654\n",
       "            text-bison@001       0.990099   1.000  0.995025\n",
       "            gemini-pro           0.826446   1.000  0.904977"
      ]
     },
     "execution_count": 15,
     "metadata": {},
     "output_type": "execute_result"
    }
   ],
   "source": [
    "# 出力の精度をまとめる\n",
    "results = []\n",
    "\n",
    "for prompt_type in PROMPT_TYPES:\n",
    "    for model_name in MODEL_NAMES:\n",
    "        df_tmp = df_result[(df_result.type == prompt_type) & (df_result.model == model_name)]\n",
    "        preds = df_tmp.output.tolist()\n",
    "        labels = df_tmp.is_medical.tolist()\n",
    "\n",
    "        # 出力が1から10の値になっているので、f1が一番高くなる閾値を採用して二値化する\n",
    "        if prompt_type == 'score':\n",
    "            score_preds = []\n",
    "            for threshold in range(1, 10):\n",
    "                preds_tmp = [1 if pred > threshold else 0 for pred in preds]\n",
    "                score = f1_score(labels, preds_tmp)\n",
    "                score_preds.append([score, preds_tmp])\n",
    "            preds = max(score_preds)[1]\n",
    "\n",
    "        results.append([prompt_type, model_name, *[func(labels, preds) for func in (precision_score, recall_score, f1_score)]])\n",
    "\n",
    "pd.DataFrame(results, columns=['prompt_type', 'model', 'precision', 'recall', 'f1']).set_index(['prompt_type', 'model'])"
   ]
  },
  {
   "cell_type": "markdown",
   "id": "97ef74bd-a276-4888-81bb-0aebb7d544d1",
   "metadata": {},
   "source": [
    "## 3-2. 費用"
   ]
  },
  {
   "cell_type": "code",
   "execution_count": 16,
   "id": "c26f8a01-5bb2-42b7-ad35-936928322f59",
   "metadata": {},
   "outputs": [
    {
     "data": {
      "image/png": "[encoded data removed]",
      "text/plain": [
       "<Figure size 640x480 with 1 Axes>"
      ]
     },
     "metadata": {},
     "output_type": "display_data"
    }
   ],
   "source": [
    "histplot(df=df_result, target_col='cost_x_10000', bins=[0, 0.5, *list(range(1, 11)), math.inf])"
   ]
  },
  {
   "cell_type": "markdown",
   "id": "f541c5b0-6eac-4c53-b1da-aa3710319f3c",
   "metadata": {},
   "source": [
    "# 3-3. 処理時間"
   ]
  },
  {
   "cell_type": "code",
   "execution_count": 17,
   "id": "ce70e80b-39e5-4533-8034-608e3390221d",
   "metadata": {},
   "outputs": [
    {
     "data": {
      "image/png": "[encoded data removed]",
      "text/plain": [
       "<Figure size 640x480 with 1 Axes>"
      ]
     },
     "metadata": {},
     "output_type": "display_data"
    }
   ],
   "source": [
    "histplot(df=df_result, target_col='time', bins=[*[i / 10 for i in range(2, 20 + 1)], math.inf])"
   ]
  },
  {
   "cell_type": "code",
   "execution_count": null,
   "id": "69541a92-b6c5-4f73-9eb5-67045e19d6a9",
   "metadata": {},
   "outputs": [],
   "source": []
  }
 ],
 "metadata": {
  "kernelspec": {
   "display_name": "Python 3 (ipykernel)",
   "language": "python",
   "name": "python3"
  },
  "language_info": {
   "codemirror_mode": {
    "name": "ipython",
    "version": 3
   },
   "file_extension": ".py",
   "mimetype": "text/x-python",
   "name": "python",
   "nbconvert_exporter": "python",
   "pygments_lexer": "ipython3",
   "version": "3.11.6"
  }
 },
 "nbformat": 4,
 "nbformat_minor": 5
}
