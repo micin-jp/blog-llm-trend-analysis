{
 "cells": [
  {
   "cell_type": "code",
   "execution_count": 1,
   "id": "468b169a-df1c-4e45-8b50-667f05f54a3a",
   "metadata": {},
   "outputs": [],
   "source": [
    "import pathlib\n",
    "import re\n",
    "\n",
    "import pandas as pd\n",
    "\n",
    "# FutureWarningのメッセージに従って\n",
    "pd.set_option('future.no_silent_downcasting', True)"
   ]
  },
  {
   "cell_type": "code",
   "execution_count": 2,
   "id": "c18cb1a4-51f1-457b-92f5-cddbb1c75844",
   "metadata": {},
   "outputs": [],
   "source": [
    "DATA_DIR = pathlib.Path('../data')"
   ]
  },
  {
   "cell_type": "markdown",
   "id": "fdeec62b-65d0-4d1a-b1dc-f9a3b872a345",
   "metadata": {},
   "source": [
    "# 4. LLM関連論文の判定\n",
    "LLM に関連する論文を判定します。  \n",
    "判定方法は [Topics, Authors, and Networks in Large Language Model Research: Trends from a Survey of 17K arXiv Papers](https://arxiv.org/abs/2307.10700) の手法を参考にしています。  "
   ]
  },
  {
   "cell_type": "code",
   "execution_count": 3,
   "id": "4cea223b-9470-41b4-9b61-cc0681afd0dd",
   "metadata": {},
   "outputs": [],
   "source": [
    "DATA_PATH = DATA_DIR / 'papers_med.csv'\n",
    "\n",
    "SAVE_PATH = DATA_DIR / 'papers_llm_med.csv'"
   ]
  },
  {
   "cell_type": "code",
   "execution_count": 4,
   "id": "58ec4b61-faa8-41df-8745-cfccdb762e44",
   "metadata": {},
   "outputs": [
    {
     "name": "stdout",
     "output_type": "stream",
     "text": [
      "191,185\n"
     ]
    },
    {
     "data": {
      "text/html": [
       "<div>\n",
       "<style scoped>\n",
       "    .dataframe tbody tr th:only-of-type {\n",
       "        vertical-align: middle;\n",
       "    }\n",
       "\n",
       "    .dataframe tbody tr th {\n",
       "        vertical-align: top;\n",
       "    }\n",
       "\n",
       "    .dataframe thead th {\n",
       "        text-align: right;\n",
       "    }\n",
       "</style>\n",
       "<table border=\"1\" class=\"dataframe\">\n",
       "  <thead>\n",
       "    <tr style=\"text-align: right;\">\n",
       "      <th></th>\n",
       "      <th>date</th>\n",
       "      <th>year_month</th>\n",
       "      <th>title</th>\n",
       "      <th>abstract</th>\n",
       "      <th>categories</th>\n",
       "      <th>url</th>\n",
       "      <th>related_to_medicine</th>\n",
       "    </tr>\n",
       "  </thead>\n",
       "  <tbody>\n",
       "    <tr>\n",
       "      <th>0</th>\n",
       "      <td>2022-01-01</td>\n",
       "      <td>2022-01</td>\n",
       "      <td>PatchTrack: Multiple Object Tracking Using Fra...</td>\n",
       "      <td>Object motion and object appearance are common...</td>\n",
       "      <td>['cs.CV']</td>\n",
       "      <td>https://arxiv.org/abs/2201.00080</td>\n",
       "      <td>0</td>\n",
       "    </tr>\n",
       "    <tr>\n",
       "      <th>1</th>\n",
       "      <td>2022-01-01</td>\n",
       "      <td>2022-01</td>\n",
       "      <td>Automated Fake News Detection using cross-chec...</td>\n",
       "      <td>Over the past decade, fake news and misinforma...</td>\n",
       "      <td>['cs.CL', 'cs.SI', 'physics.soc-ph']</td>\n",
       "      <td>https://arxiv.org/abs/2201.00083</td>\n",
       "      <td>0</td>\n",
       "    </tr>\n",
       "  </tbody>\n",
       "</table>\n",
       "</div>"
      ],
      "text/plain": [
       "         date year_month                                              title  \\\n",
       "0  2022-01-01    2022-01  PatchTrack: Multiple Object Tracking Using Fra...   \n",
       "1  2022-01-01    2022-01  Automated Fake News Detection using cross-chec...   \n",
       "\n",
       "                                            abstract  \\\n",
       "0  Object motion and object appearance are common...   \n",
       "1  Over the past decade, fake news and misinforma...   \n",
       "\n",
       "                             categories                               url  \\\n",
       "0                             ['cs.CV']  https://arxiv.org/abs/2201.00080   \n",
       "1  ['cs.CL', 'cs.SI', 'physics.soc-ph']  https://arxiv.org/abs/2201.00083   \n",
       "\n",
       "  related_to_medicine  \n",
       "0                   0  \n",
       "1                   0  "
      ]
     },
     "execution_count": 4,
     "metadata": {},
     "output_type": "execute_result"
    }
   ],
   "source": [
    "RELATED_TO_MEDICINE_COL = 'related_to_medicine'\n",
    "\n",
    "df = pd.read_csv(DATA_PATH)\n",
    "df.replace({RELATED_TO_MEDICINE_COL: {'No': 0, 'Yes': 1}}, inplace=True)\n",
    "\n",
    "print(f'{len(df):,}')\n",
    "df.head(2)"
   ]
  },
  {
   "cell_type": "code",
   "execution_count": 5,
   "id": "efdc47c0-33c7-4818-aedb-564da8abae1c",
   "metadata": {},
   "outputs": [],
   "source": [
    "TITLE_COL = 'title'\n",
    "ABSTRACT_COL = 'abstract'\n",
    "\n",
    "LLM_CASE_INSENSITIVE_KEYWORDS = [\n",
    "    'LLM', 'LLMs', 'Large Language Model', 'Large Language Models'\n",
    "]\n",
    "LLM_CASE_SENSITIVE_KEYWORDS = [\n",
    "    'GPT3', 'GPT-3', 'GPT 3', 'GPT4', 'GPT-4', 'GPT 4', 'ChatGPT', 'Chat-GPT',\n",
    "    'Chat GPT', 'PaLM', 'Bard', 'LLaMA', 'Llama', 'Claude'\n",
    "]\n",
    "LLM_CASE_INSENSITIVE_KEYWORDS_REGEX = re.compile(\n",
    "    fr'\\b({\"|\".join([kw.lower() for kw in LLM_CASE_INSENSITIVE_KEYWORDS])})\\b')\n",
    "LLM_CASE_SENSITIVE_KEYWORDS_REGEX = re.compile(\n",
    "    fr'\\b({\"|\".join(LLM_CASE_SENSITIVE_KEYWORDS)})\\b')\n",
    "\n",
    "\n",
    "def add_related_to_llm_col(df: pd.DataFrame, target_col: str = 'related_to_llm') -> None:\n",
    "    \"\"\"LLM関連論文かどうかを表すカラムを追加する\"\"\"\n",
    "    df[target_col] = [\n",
    "        1 if is_related_to_llm(f'{getattr(row, TITLE_COL)}\\n{getattr(row, ABSTRACT_COL)}') else 0\n",
    "        for row in df.itertuples()\n",
    "    ]\n",
    "\n",
    "\n",
    "def is_related_to_llm(text: str) -> bool:\n",
    "    \"\"\"textがLLM関連キーワードを含むかを判定する\"\"\"\n",
    "    if LLM_CASE_INSENSITIVE_KEYWORDS_REGEX.search(text.lower()):\n",
    "        return True\n",
    "    if LLM_CASE_SENSITIVE_KEYWORDS_REGEX.search(text):\n",
    "        return True\n",
    "    return False"
   ]
  },
  {
   "cell_type": "code",
   "execution_count": 6,
   "id": "39225f54-e953-4af2-b170-20324c7f9c17",
   "metadata": {},
   "outputs": [
    {
     "data": {
      "text/html": [
       "<div>\n",
       "<style scoped>\n",
       "    .dataframe tbody tr th:only-of-type {\n",
       "        vertical-align: middle;\n",
       "    }\n",
       "\n",
       "    .dataframe tbody tr th {\n",
       "        vertical-align: top;\n",
       "    }\n",
       "\n",
       "    .dataframe thead th {\n",
       "        text-align: right;\n",
       "    }\n",
       "</style>\n",
       "<table border=\"1\" class=\"dataframe\">\n",
       "  <thead>\n",
       "    <tr style=\"text-align: right;\">\n",
       "      <th></th>\n",
       "      <th>date</th>\n",
       "      <th>year_month</th>\n",
       "      <th>title</th>\n",
       "      <th>abstract</th>\n",
       "      <th>categories</th>\n",
       "      <th>url</th>\n",
       "      <th>related_to_medicine</th>\n",
       "      <th>related_to_llm</th>\n",
       "    </tr>\n",
       "  </thead>\n",
       "  <tbody>\n",
       "    <tr>\n",
       "      <th>0</th>\n",
       "      <td>2022-01-01</td>\n",
       "      <td>2022-01</td>\n",
       "      <td>PatchTrack: Multiple Object Tracking Using Fra...</td>\n",
       "      <td>Object motion and object appearance are common...</td>\n",
       "      <td>['cs.CV']</td>\n",
       "      <td>https://arxiv.org/abs/2201.00080</td>\n",
       "      <td>0</td>\n",
       "      <td>0</td>\n",
       "    </tr>\n",
       "    <tr>\n",
       "      <th>1</th>\n",
       "      <td>2022-01-01</td>\n",
       "      <td>2022-01</td>\n",
       "      <td>Automated Fake News Detection using cross-chec...</td>\n",
       "      <td>Over the past decade, fake news and misinforma...</td>\n",
       "      <td>['cs.CL', 'cs.SI', 'physics.soc-ph']</td>\n",
       "      <td>https://arxiv.org/abs/2201.00083</td>\n",
       "      <td>0</td>\n",
       "      <td>0</td>\n",
       "    </tr>\n",
       "  </tbody>\n",
       "</table>\n",
       "</div>"
      ],
      "text/plain": [
       "         date year_month                                              title  \\\n",
       "0  2022-01-01    2022-01  PatchTrack: Multiple Object Tracking Using Fra...   \n",
       "1  2022-01-01    2022-01  Automated Fake News Detection using cross-chec...   \n",
       "\n",
       "                                            abstract  \\\n",
       "0  Object motion and object appearance are common...   \n",
       "1  Over the past decade, fake news and misinforma...   \n",
       "\n",
       "                             categories                               url  \\\n",
       "0                             ['cs.CV']  https://arxiv.org/abs/2201.00080   \n",
       "1  ['cs.CL', 'cs.SI', 'physics.soc-ph']  https://arxiv.org/abs/2201.00083   \n",
       "\n",
       "  related_to_medicine  related_to_llm  \n",
       "0                   0               0  \n",
       "1                   0               0  "
      ]
     },
     "execution_count": 6,
     "metadata": {},
     "output_type": "execute_result"
    }
   ],
   "source": [
    "add_related_to_llm_col(df)\n",
    "\n",
    "df.head(2)"
   ]
  },
  {
   "cell_type": "code",
   "execution_count": 7,
   "id": "338f7ac6-1a05-47f1-a614-8ff00bc02815",
   "metadata": {},
   "outputs": [],
   "source": [
    "df.to_csv(SAVE_PATH, header=True, index=False)"
   ]
  },
  {
   "cell_type": "code",
   "execution_count": null,
   "id": "f4127de0-c12f-4f82-9a10-4c4b0968527f",
   "metadata": {},
   "outputs": [],
   "source": []
  }
 ],
 "metadata": {
  "kernelspec": {
   "display_name": "Python 3 (ipykernel)",
   "language": "python",
   "name": "python3"
  },
  "language_info": {
   "codemirror_mode": {
    "name": "ipython",
    "version": 3
   },
   "file_extension": ".py",
   "mimetype": "text/x-python",
   "name": "python",
   "nbconvert_exporter": "python",
   "pygments_lexer": "ipython3",
   "version": "3.11.6"
  }
 },
 "nbformat": 4,
 "nbformat_minor": 5
}
